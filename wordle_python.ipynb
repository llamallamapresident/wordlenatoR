{
 "cells": [
  {
   "cell_type": "code",
   "execution_count": null,
   "metadata": {},
   "outputs": [],
   "source": [
    "import os"
   ]
  },
  {
   "cell_type": "code",
   "execution_count": null,
   "metadata": {},
   "outputs": [],
   "source": [
    "max_target_checking = 10"
   ]
  },
  {
   "cell_type": "code",
   "execution_count": null,
   "metadata": {},
   "outputs": [],
   "source": [
    "class TargetWord:\n",
    "    def __init__(self, target):\n",
    "        # to implement: check validlity of word\n",
    "        self.target = list(target)\n",
    "    \n",
    "    # Returns a list of 5 ints, 0 represents gray, 1 represents yellow, 2 represents green\n",
    "    def feedback(self, guess):\n",
    "        \n",
    "        # to implement: check validlity of guess\n",
    "        tmp_target = list(self.target)\n",
    "        guess = list(guess)\n",
    "\n",
    "        feedback = [0 for _ in range(5)]\n",
    "\n",
    "        for i in range(5):\n",
    "            if guess[i] == tmp_target[i]:\n",
    "                feedback[i] = 2\n",
    "                tmp_target[i] = \"\"\n",
    "\n",
    "        for i in range(5):\n",
    "            if feedback[i] != 2 and guess[i] in tmp_target:\n",
    "                feedback[i] = 1\n",
    "                index = tmp_target.index(guess[i])\n",
    "                tmp_target[index] = \"\"\n",
    "\n",
    "        return feedback"
   ]
  },
  {
   "cell_type": "code",
   "execution_count": null,
   "metadata": {},
   "outputs": [],
   "source": [
    "def possible_word(word, guess, feedback):\n",
    "    word_chars = list(word)\n",
    "    guess_chars = list(guess)\n",
    "\n",
    "    for i, result in enumerate(feedback):\n",
    "        current_char = guess_chars[i]\n",
    "        if result == 2:\n",
    "            if current_char != word_chars[i]:\n",
    "                return False\n",
    "            else:\n",
    "                word_chars[i] = \"\"\n",
    "    \n",
    "    for i, result in enumerate(feedback):\n",
    "        current_char = guess_chars[i]\n",
    "        if result == 1:\n",
    "            if current_char not in word_chars:\n",
    "                return False\n",
    "            else:\n",
    "                index = word_chars.index(current_char)\n",
    "                word_chars[index] = \"\"\n",
    "\n",
    "    for i, result in enumerate(feedback):\n",
    "        current_char = guess_chars[i]\n",
    "        if result == 0:\n",
    "            if current_char in word_chars:\n",
    "                return False\n",
    "    \n",
    "    return True\n",
    "\n",
    "class Wordlenator:\n",
    "    def __init__(self, wordle_list):\n",
    "        self.current_list = list(wordle_list)\n",
    "        self.full_list = list(wordle_list)\n",
    "\n",
    "    def guess(self):\n",
    "        \n",
    "        # Find the total number of possible words for a given guess word\n",
    "        #score_dict = {word: 0 for word in self.full_list}\n",
    "        score_dict = {word: 0 for word in self.current_list}\n",
    "\n",
    "        target_counter = 0\n",
    "\n",
    "        for possible_target_word in self.current_list:\n",
    "            tmp_target = TargetWord(possible_target_word)\n",
    "\n",
    "            #for guess in self.full_list:\n",
    "            for guess in self.current_list:\n",
    "                feedback = tmp_target.feedback(guess)\n",
    "                score = [possible_word(word, guess, feedback) for word in self.current_list].count(True)\n",
    "                score_dict[guess] = score_dict[guess] + score\n",
    "            \n",
    "            # Prevent excessive computations\n",
    "            target_counter += 1\n",
    "            if target_counter >= max_target_checking:\n",
    "                break\n",
    "        \n",
    "        min_guess = min(score_dict, key=score_dict.get)\n",
    "        return(min_guess)\n",
    "\n",
    "    def update(self, guess, feedback):\n",
    "        self.current_list = [word for word in self.current_list if possible_word(word, guess, feedback)]\n",
    "        return"
   ]
  },
  {
   "cell_type": "code",
   "execution_count": null,
   "metadata": {},
   "outputs": [],
   "source": [
    "test1 = TargetWord(\"prick\")\n",
    "print(test1.feedback(\"tares\"), \"#1\")\n",
    "print(test1.feedback(\"furor\"), \"#2\")\n",
    "print(test1.feedback(\"pinky\"), \"#3\")\n",
    "print(test1.feedback(\"prick\"), \"#4\")\n",
    "\n",
    "test2 = TargetWord(\"furry\")\n",
    "print(test1.feedback(\"tares\"), \"#5\")\n",
    "\n",
    "test3 = TargetWord(\"incur\")\n",
    "print(test1.feedback(\"mould\"), \"#6\")"
   ]
  },
  {
   "cell_type": "code",
   "execution_count": null,
   "metadata": {},
   "outputs": [],
   "source": [
    "# Load all the wordle words into a list as strings\n",
    "dictionary_path = os.path.join(os.getcwd(), \"wordle_words.txt\")\n",
    "\n",
    "with open(dictionary_path, \"r\") as file:\n",
    "    wordle_list = [line.strip() for line in file.readlines()]\n",
    "print(wordle_list[:5])\n",
    "len(wordle_list)"
   ]
  },
  {
   "cell_type": "code",
   "execution_count": null,
   "metadata": {},
   "outputs": [],
   "source": [
    "test_run = Wordlenator(wordle_list)\n",
    "test_run.guess()"
   ]
  },
  {
   "cell_type": "code",
   "execution_count": null,
   "metadata": {},
   "outputs": [],
   "source": [
    "# Run a test on the wordlenator and print the result\n",
    "\n",
    "guess_total = 0\n",
    "\n",
    "for word in wordle_list:\n",
    "    target_word = TargetWord(word)\n",
    "    guess_count = 1\n",
    "\n",
    "    # Initalize Wordlenator\n",
    "    wordlenator = Wordlenator(wordle_list)\n",
    "\n",
    "    #guess = wordlenator.guess()\n",
    "    guess = \"crane\"\n",
    "    feedback = target_word.feedback(guess)\n",
    "\n",
    "    while feedback != [2, 2, 2, 2, 2]:\n",
    "        guess_count += 1\n",
    "        wordlenator.update(guess, feedback)\n",
    "        guess = wordlenator.guess()\n",
    "        feedback = target_word.feedback(guess)\n",
    "    \n",
    "    print(guess_count)\n",
    "    guess_total += guess_count\n",
    "\n",
    "print(guess_total)"
   ]
  }
 ],
 "metadata": {
  "kernelspec": {
   "display_name": "py39",
   "language": "python",
   "name": "python3"
  },
  "language_info": {
   "codemirror_mode": {
    "name": "ipython",
    "version": 3
   },
   "file_extension": ".py",
   "mimetype": "text/x-python",
   "name": "python",
   "nbconvert_exporter": "python",
   "pygments_lexer": "ipython3",
   "version": "3.11.3"
  }
 },
 "nbformat": 4,
 "nbformat_minor": 2
}
